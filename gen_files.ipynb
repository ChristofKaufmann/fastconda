{
 "cells": [
  {
   "cell_type": "code",
   "execution_count": 111,
   "metadata": {},
   "outputs": [],
   "source": [
    "from pathlib import Path\n",
    "import yaml\n",
    "from fastrelease.conda import latest_pypi, pypi_json\n",
    "from fastcore.all import ifnone, patch, store_attr , compose, L, call_parse, Param"
   ]
  },
  {
   "cell_type": "code",
   "execution_count": 47,
   "metadata": {},
   "outputs": [],
   "source": [
    "@patch\n",
    "def wlns(self:Path, lst:list): \n",
    "    with self.open('w') as f: f.writelines(lst)\n",
    "\n",
    "@patch\n",
    "def d2yml(self:Path, d):\n",
    "    yaml.SafeDumper.ignore_aliases = lambda *args : True\n",
    "    with self.open('w') as f: yaml.safe_dump(d, f)\n",
    "        \n",
    "@patch\n",
    "def yml2d(self:Path):\n",
    "    with self.open('r') as f: return yaml.safe_load(f)\n",
    "        \n",
    "def _mkdir(path):\n",
    "    p = Path(path)\n",
    "    p.mkdir(exist_ok=True, parents=True)\n",
    "    return p"
   ]
  },
  {
   "cell_type": "code",
   "execution_count": 105,
   "metadata": {},
   "outputs": [],
   "source": [
    "class CondaBuild:\n",
    "    def __init__(self, pypinm, deps=None, import_nm=None, path=None):\n",
    "        store_attr('pypinm,deps')\n",
    "        self.import_nm = ifnone(import_nm, pypinm)\n",
    "        try: self.ver = str(latest_pypi(pypinm))\n",
    "        except: raise ValueError(f'package name: {pypinm} not found on pypi.')\n",
    "        self.info = pypi_json(f'{pypinm}/{self.ver}')['info']\n",
    "        self.path = _mkdir(ifnone(path,self.pypinm))\n",
    "        self.meta ={'package': {'name': self.pypinm, 'version': self.ver},\n",
    "                    'build':{'number':0, 'binary_relocation':False, 'detect_binary_files_with_prefix':False},\n",
    "                    'requirents':{'host': ['pip', 'python'], 'run':['python']+list(L(self.deps))},\n",
    "                    'test':{'imports': [self.import_nm], 'requires':['pip']},\n",
    "                    'about':{'home':self.info['home_page'], 'summary':self.info['summary'], 'license':self.info['license']},\n",
    "                    'extra':{'recipe-maintainers': ['jph00']}\n",
    "                   }\n",
    "        \n",
    "    def create_meta(self): (self.path/'meta.yaml').d2yml(self.meta)\n",
    "            \n",
    "    def create_sh(self): (self.path/'build.sh').wlns(['#!/usr/bin/env bash\\n','PIP_NO_INDEX=False python -m pip install -Uq $PKG_NAME'])\n",
    "            \n",
    "    def create_bat(self): (self.path/'bld.bat').wlns(['setlocal\\n', 'set PIP_NO_INDEX=False\\n','python -m pip install -Uq %PKG_NAME%'])\n",
    "    \n",
    "    def create_build_files(self):\n",
    "        for f in [self.create_meta, self.create_sh, self.create_bat]: f()\n",
    "    \n",
    "    @classmethod\n",
    "    def from_yaml(cls, path): \n",
    "        p = Path(path)\n",
    "        assert p.is_file() and p.exists(), f\"Did not find file: {path}.\"\n",
    "        for d in p.yml2d(): cls(**d).create_build_files()"
   ]
  },
  {
   "cell_type": "code",
   "execution_count": 112,
   "metadata": {},
   "outputs": [],
   "source": [
    "@call_parse  \n",
    "def main(path:Param('Path to build file', str)='build.yaml'): CondaBuild.from_yaml(path)"
   ]
  },
  {
   "cell_type": "code",
   "execution_count": null,
   "metadata": {},
   "outputs": [],
   "source": []
  }
 ],
 "metadata": {
  "kernelspec": {
   "display_name": "Python 3",
   "language": "python",
   "name": "python3"
  },
  "language_info": {
   "codemirror_mode": {
    "name": "ipython",
    "version": 3
   },
   "file_extension": ".py",
   "mimetype": "text/x-python",
   "name": "python",
   "nbconvert_exporter": "python",
   "pygments_lexer": "ipython3",
   "version": "3.8.3"
  }
 },
 "nbformat": 4,
 "nbformat_minor": 4
}
