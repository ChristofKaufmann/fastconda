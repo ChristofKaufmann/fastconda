{
 "cells": [
  {
   "cell_type": "code",
   "execution_count": 20,
   "metadata": {},
   "outputs": [],
   "source": [
    "from pathlib import Path\n",
    "import yaml\n",
    "from fastrelease.conda import latest_pypi, pypi_json\n",
    "from fastcore.all import ifnone, patch, store_attr , compose"
   ]
  },
  {
   "cell_type": "code",
   "execution_count": 21,
   "metadata": {},
   "outputs": [],
   "source": [
    "@patch\n",
    "def wlns(self:Path, lst:list): \n",
    "    with self.open('w') as f: f.writelines(lst)\n",
    "\n",
    "@patch\n",
    "def d2yml(self:Path, d):\n",
    "    yaml.SafeDumper.ignore_aliases = lambda *args : True\n",
    "    with self.open('w') as f: yaml.safe_dump(d, f)\n",
    "        \n",
    "def _mkdir(path):\n",
    "    p = Path(path)\n",
    "    p.mkdir(exist_ok=True, parents=True)\n",
    "    return p"
   ]
  },
  {
   "cell_type": "code",
   "execution_count": 22,
   "metadata": {},
   "outputs": [],
   "source": [
    "class CondaBuild:\n",
    "    def __init__(self, pypinm, import_nm, deps=[], path=None):\n",
    "        store_attr('pypinm,import_nm,deps')\n",
    "        self.ver = str(latest_pypi(pypinm))\n",
    "        self.info = pypi_json(f'{pypinm}/{self.ver}')['info']\n",
    "        self.path = _mkdir(ifnone(path,self.pypinm))\n",
    "        self.meta ={'package': {'name': self.pypinm, 'version': self.ver},\n",
    "                    'build':{'number':0, 'binary_relocation':False, 'detect_binary_files_with_prefix':False},\n",
    "                    'requirents':{'host': ['pip', 'python'], 'run':self.deps},\n",
    "                    'test':{'imports': [self.import_nm], 'requires':['pip']},\n",
    "                    'about':{'home':self.info['home_page'], 'summary':self.info['summary'], 'license':self.info['license']},\n",
    "                    'extra':{'recipe-maintainers': ['jph00']}\n",
    "                   }\n",
    "        \n",
    "    def create_meta(self): (self.path/'meta.yaml').d2yml(self.meta)\n",
    "            \n",
    "    def create_sh(self): (self.path/'build.sh').wlns(['#!/usr/bin/env bash\\n','PIP_NO_INDEX=False python -m pip install -Uq $PKG_NAME'])\n",
    "            \n",
    "    def create_bat(self): (self.path/'bld.bat').wlns(['setlocal\\n', 'set PIP_NO_INDEX=False\\n','python -m pip install -Uq %PKG_NAME%'])\n",
    "    \n",
    "    def create_build_files(self): \n",
    "        for f in [self.create_meta, self.create_sh, self.create_bat]: f()\n",
    "        "
   ]
  },
  {
   "cell_type": "code",
   "execution_count": 23,
   "metadata": {},
   "outputs": [],
   "source": [
    "cb = CondaBuild('opencv-python-headless', import_nm='cv2', path='test')\n",
    "cb.create_build_files()"
   ]
  },
  {
   "cell_type": "code",
   "execution_count": null,
   "metadata": {},
   "outputs": [],
   "source": []
  },
  {
   "cell_type": "code",
   "execution_count": null,
   "metadata": {},
   "outputs": [],
   "source": []
  }
 ],
 "metadata": {
  "kernelspec": {
   "display_name": "Python 3",
   "language": "python",
   "name": "python3"
  },
  "language_info": {
   "codemirror_mode": {
    "name": "ipython",
    "version": 3
   },
   "file_extension": ".py",
   "mimetype": "text/x-python",
   "name": "python",
   "nbconvert_exporter": "python",
   "pygments_lexer": "ipython3",
   "version": "3.8.3"
  }
 },
 "nbformat": 4,
 "nbformat_minor": 4
}
