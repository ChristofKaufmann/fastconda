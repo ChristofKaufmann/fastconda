{
 "cells": [
  {
   "cell_type": "code",
   "execution_count": 118,
   "metadata": {},
   "outputs": [],
   "source": [
    "from fastcore.all import *"
   ]
  },
  {
   "cell_type": "code",
   "execution_count": 141,
   "metadata": {},
   "outputs": [],
   "source": [
    "ignore_channels = ['pkgs/main', 'pytorch']"
   ]
  },
  {
   "cell_type": "code",
   "execution_count": 142,
   "metadata": {},
   "outputs": [],
   "source": [
    "def read_dep(f:str):\n",
    "    \"\"\"Reads in json output from mamba dry run. Cleans json file of artifacts before reading.\"\"\"\n",
    "    f = L(Path(f).readlines())\n",
    "    bidx = f.argwhere(lambda x: x == '{\\n')[0]\n",
    "    eidx = f.argwhere(lambda x: x == '}\\n')[0]+1\n",
    "    return dict2obj(loads(''.join(f[bidx:eidx])))"
   ]
  },
  {
   "cell_type": "code",
   "execution_count": 143,
   "metadata": {},
   "outputs": [],
   "source": [
    "deps = read_dep('inst-3.7.json')"
   ]
  },
  {
   "cell_type": "code",
   "execution_count": 144,
   "metadata": {},
   "outputs": [],
   "source": [
    "assert deps.success"
   ]
  },
  {
   "cell_type": "code",
   "execution_count": 145,
   "metadata": {},
   "outputs": [],
   "source": [
    "specs = (deps.actions.LINK.filter(lambda x: x.channel not in ignore_channels)\n",
    " .map(lambda x: f'{x.channel}/{x.name}/{x.version}'))"
   ]
  },
  {
   "cell_type": "code",
   "execution_count": 146,
   "metadata": {},
   "outputs": [],
   "source": [
    "def copy_spec(s): \n",
    "    print(f'copying {s} to fastai')\n",
    "    run(f'anaconda copy --to-label fastai {s}')"
   ]
  },
  {
   "cell_type": "code",
   "execution_count": 147,
   "metadata": {},
   "outputs": [
    {
     "data": {
      "text/plain": [
       "(#7) ['conda-forge/gperftools/2.7','conda-forge/sentencepiece/0.1.92','conda-forge/tokenizers/0.9.4','conda-forge/rich/9.6.1','conda-forge/sacremoses/0.0.43','conda-forge/timm/0.3.2','conda-forge/transformers/4.1.1']"
      ]
     },
     "execution_count": 147,
     "metadata": {},
     "output_type": "execute_result"
    }
   ],
   "source": [
    "specs"
   ]
  },
  {
   "cell_type": "code",
   "execution_count": null,
   "metadata": {},
   "outputs": [],
   "source": []
  }
 ],
 "metadata": {
  "kernelspec": {
   "display_name": "Python 3",
   "language": "python",
   "name": "python3"
  },
  "language_info": {
   "codemirror_mode": {
    "name": "ipython",
    "version": 3
   },
   "file_extension": ".py",
   "mimetype": "text/x-python",
   "name": "python",
   "nbconvert_exporter": "python",
   "pygments_lexer": "ipython3",
   "version": "3.8.3"
  }
 },
 "nbformat": 4,
 "nbformat_minor": 4
}
