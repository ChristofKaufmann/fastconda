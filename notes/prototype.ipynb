{
 "cells": [
  {
   "cell_type": "code",
   "execution_count": 1,
   "metadata": {},
   "outputs": [],
   "source": [
    "from fastcore.utils import *"
   ]
  },
  {
   "cell_type": "code",
   "execution_count": 4,
   "metadata": {
    "scrolled": true
   },
   "outputs": [
    {
     "data": {
      "text/plain": [
       "['conda-forge/reproc/14.2.1',\n",
       " 'conda-forge/libsolv/0.7.16',\n",
       " 'conda-forge/reproc-cpp/14.2.1',\n",
       " 'conda-forge/python_abi/3.8',\n",
       " 'conda-forge/mamba/0.7.3',\n",
       " 'conda-forge/arrow-cpp-proc/2.0.0',\n",
       " 'nvidia/cudatoolkit/11.0.221',\n",
       " 'conda-forge/icu/67.1',\n",
       " 'conda-forge/libiconv/1.16',\n",
       " 'conda-forge/spdlog/1.7.0',\n",
       " 'nvidia/cudnn/8.0.0',\n",
       " 'conda-forge/gperftools/2.7',\n",
       " 'conda-forge/libevent/2.1.10',\n",
       " 'rapidsai/librmm/0.17.0',\n",
       " 'conda-forge/libxml2/2.9.10',\n",
       " 'nvidia/nccl/2.7.8.1',\n",
       " 'conda-forge/aws-c-event-stream/0.1.6',\n",
       " 'conda-forge/boost-cpp/1.72.0',\n",
       " 'conda-forge/grpc-cpp/1.33.2',\n",
       " 'conda-forge/libarchive/3.3.3',\n",
       " 'conda-forge/libthrift/0.13.0',\n",
       " 'conda-forge/orc/1.6.5',\n",
       " 'conda-forge/aws-sdk-cpp/1.8.70',\n",
       " 'conda-forge/nvtx/0.2.1',\n",
       " 'conda-forge/sentencepiece/0.1.91',\n",
       " 'conda-forge/tokenizers/0.9.4',\n",
       " 'conda-forge/rich/9.6.1',\n",
       " 'conda-forge/sacremoses/0.0.43',\n",
       " 'conda-forge/arrow-cpp/1.0.1',\n",
       " 'rapidsai/libcudf/0.17.0',\n",
       " 'conda-forge/parquet-cpp/1.5.1',\n",
       " 'conda-forge/pyarrow/1.0.1',\n",
       " 'conda-forge/transformers/4.1.1',\n",
       " 'rapidsai/cupy/8.0.0',\n",
       " 'pytorch/pytorch/1.7.1',\n",
       " 'rapidsai/rmm/0.17.0',\n",
       " 'pytorch/torchvision/0.8.2',\n",
       " 'rapidsai/cudf/0.17.0',\n",
       " 'conda-forge/timm/0.3.2',\n",
       " 'fastai/fastcore/1.3.13',\n",
       " 'fastai/nbdev/1.1.5',\n",
       " 'fastai/fastprogress/1.0.0',\n",
       " 'fastai/fastai/2.1.10']"
      ]
     },
     "execution_count": 4,
     "metadata": {},
     "output_type": "execute_result"
    }
   ],
   "source": [
    "txt = Path('../dep_data/inst-3.8.json').read_text()\n",
    "links = concat(o.actions.LINK for o in dict2obj(list(loads_multi(txt))))\n",
    "[f'{o.channel}/{o.name}/{o.version}' for o in links if o.channel != 'pkgs/main' and o.name != 'matplotlib']"
   ]
  },
  {
   "cell_type": "code",
   "execution_count": null,
   "metadata": {},
   "outputs": [],
   "source": []
  },
  {
   "cell_type": "code",
   "execution_count": 1,
   "metadata": {},
   "outputs": [],
   "source": [
    "from configparser import ConfigParser\n",
    "cfg = ConfigParser()\n",
    "cfg.read('../settings.ini')\n",
    "ignore_channels = cfg['DEFAULT']['ignore_channels'].split()"
   ]
  },
  {
   "cell_type": "code",
   "execution_count": 25,
   "metadata": {},
   "outputs": [],
   "source": [
    "def read_dep(f:str):\n",
    "    \"\"\"Reads in json output from mamba dry run. Cleans json file of artifacts before reading.\"\"\"\n",
    "    f = L(Path(f).readlines())\n",
    "    bidx = f.argwhere(lambda x: x == '{\\n')[0]\n",
    "    eidx = f.argwhere(lambda x: x == '}\\n')[0]+1\n",
    "    deps = dict2obj(loads(''.join(f[bidx:eidx])))\n",
    "    assert deps.success, \"Was not able to determine dependencies.\"\n",
    "    return deps\n",
    "\n",
    "def copy_spec(s): \n",
    "    print(f'    copying {s} to fastai')\n",
    "    run(f'anaconda copy --to-label fastai {s}', ignore_ex=True)"
   ]
  },
  {
   "cell_type": "code",
   "execution_count": 14,
   "metadata": {},
   "outputs": [],
   "source": [
    "@call_parse\n",
    "def main(filename:Param(\"filename\",str)):\n",
    "    deps = read_dep(filename)\n",
    "    specs = (deps.actions.LINK.filter(lambda x: x.channel not in ignore_channels)\n",
    "             .map(lambda x: f'{x.channel}/{x.name}/{x.version}'))\n",
    "    for s in specs: copy_spec(s)"
   ]
  },
  {
   "cell_type": "markdown",
   "metadata": {},
   "source": [
    "Try it"
   ]
  },
  {
   "cell_type": "code",
   "execution_count": 3,
   "metadata": {},
   "outputs": [],
   "source": [
    "deps = read_dep('sample_data/inst-3.7.json')"
   ]
  },
  {
   "cell_type": "code",
   "execution_count": 4,
   "metadata": {},
   "outputs": [],
   "source": [
    "specs = (deps.actions.LINK.filter(lambda x: x.channel not in ignore_channels)\n",
    " .map(lambda x: f'{x.channel}/{x.name}/{x.version}'))"
   ]
  },
  {
   "cell_type": "code",
   "execution_count": null,
   "metadata": {},
   "outputs": [],
   "source": [
    "run('echo \"hello\"', 'echo \"bye\"')"
   ]
  }
 ],
 "metadata": {
  "kernelspec": {
   "display_name": "Python 3",
   "language": "python",
   "name": "python3"
  },
  "language_info": {
   "codemirror_mode": {
    "name": "ipython",
    "version": 3
   },
   "file_extension": ".py",
   "mimetype": "text/x-python",
   "name": "python",
   "nbconvert_exporter": "python",
   "pygments_lexer": "ipython3",
   "version": "3.7.7"
  },
  "toc": {
   "base_numbering": 1,
   "nav_menu": {},
   "number_sections": false,
   "sideBar": true,
   "skip_h1_title": true,
   "title_cell": "Table of Contents",
   "title_sidebar": "Contents",
   "toc_cell": false,
   "toc_position": {},
   "toc_section_display": true,
   "toc_window_display": false
  }
 },
 "nbformat": 4,
 "nbformat_minor": 4
}
