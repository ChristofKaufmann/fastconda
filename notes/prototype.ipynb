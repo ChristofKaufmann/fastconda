{
 "cells": [
  {
   "cell_type": "code",
   "execution_count": 1,
   "metadata": {},
   "outputs": [],
   "source": [
    "from fastcore.all import *\n",
    "from configparser import ConfigParser\n",
    "cfg = ConfigParser()\n",
    "cfg.read('../settings.ini')\n",
    "ignore_channels = cfg['DEFAULT']['ignore_channels'].split()"
   ]
  },
  {
   "cell_type": "code",
   "execution_count": 25,
   "metadata": {},
   "outputs": [],
   "source": [
    "def read_dep(f:str):\n",
    "    \"\"\"Reads in json output from mamba dry run. Cleans json file of artifacts before reading.\"\"\"\n",
    "    f = L(Path(f).readlines())\n",
    "    bidx = f.argwhere(lambda x: x == '{\\n')[0]\n",
    "    eidx = f.argwhere(lambda x: x == '}\\n')[0]+1\n",
    "    deps = dict2obj(loads(''.join(f[bidx:eidx])))\n",
    "    assert deps.success, \"Was not able to determine dependencies.\"\n",
    "    return deps\n",
    "\n",
    "def copy_spec(s): \n",
    "    print(f'    copying {s} to fastai')\n",
    "    run(f'anaconda copy --to-label fastai {s}', ignore_ex=True)"
   ]
  },
  {
   "cell_type": "code",
   "execution_count": 14,
   "metadata": {},
   "outputs": [],
   "source": [
    "@call_parse\n",
    "def main(filename:Param(\"filename\",str)):\n",
    "    deps = read_dep(filename)\n",
    "    specs = (deps.actions.LINK.filter(lambda x: x.channel not in ignore_channels)\n",
    "             .map(lambda x: f'{x.channel}/{x.name}/{x.version}'))\n",
    "    for s in specs: copy_spec(s)"
   ]
  },
  {
   "cell_type": "markdown",
   "metadata": {},
   "source": [
    "Try it"
   ]
  },
  {
   "cell_type": "code",
   "execution_count": 3,
   "metadata": {},
   "outputs": [],
   "source": [
    "deps = read_dep('sample_data/inst-3.7.json')"
   ]
  },
  {
   "cell_type": "code",
   "execution_count": 4,
   "metadata": {},
   "outputs": [],
   "source": [
    "specs = (deps.actions.LINK.filter(lambda x: x.channel not in ignore_channels)\n",
    " .map(lambda x: f'{x.channel}/{x.name}/{x.version}'))"
   ]
  },
  {
   "cell_type": "code",
   "execution_count": null,
   "metadata": {},
   "outputs": [],
   "source": [
    "run('echo \"hello\"', 'echo \"bye\"')"
   ]
  }
 ],
 "metadata": {
  "kernelspec": {
   "display_name": "Python 3",
   "language": "python",
   "name": "python3"
  },
  "language_info": {
   "codemirror_mode": {
    "name": "ipython",
    "version": 3
   },
   "file_extension": ".py",
   "mimetype": "text/x-python",
   "name": "python",
   "nbconvert_exporter": "python",
   "pygments_lexer": "ipython3",
   "version": "3.8.3"
  }
 },
 "nbformat": 4,
 "nbformat_minor": 4
}
